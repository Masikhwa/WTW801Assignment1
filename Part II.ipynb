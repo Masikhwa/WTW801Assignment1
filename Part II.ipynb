{
 "cells": [
  {
   "cell_type": "code",
   "execution_count": 1,
   "id": "d9a2843c-e3a0-4168-8d7c-1122b9f0a886",
   "metadata": {
    "include-cell-in-app": true
   },
   "outputs": [],
   "source": [
    "from pathlib import Path\n",
    "import numpy as np\n",
    "import pandas as pd\n",
    "from scipy.optimize import minimize"
   ]
  },
  {
   "cell_type": "markdown",
   "id": "090b6f0f-6b0d-4ff5-a5bd-a740fb4fdb13",
   "metadata": {
    "include-cell-in-app": true
   },
   "source": []
  },
  {
   "cell_type": "code",
   "execution_count": 4,
   "id": "9bab93e1-6f65-422a-94b6-d8cf8adf8601",
   "metadata": {
    "include-cell-in-app": true
   },
   "outputs": [],
   "source": [
    "# -------------------------------\n",
    "# 1) Load prices\n",
    "# -------------------------------\n",
    "xlsx_path = Path(\"jse_prices_adjclose_new.xlsx\")\n",
    "if not xlsx_path.exists():\n",
    "    raise FileNotFoundError(f\"File not found: {xlsx_path}\")\n",
    "\n",
    "xls = pd.ExcelFile(xlsx_path)\n",
    "sheet_name = xls.sheet_names[0]\n",
    "px = pd.read_excel(xlsx_path, sheet_name=sheet_name)\n",
    "\n",
    "# Heuristic to find date column\n",
    "date_col = None\n",
    "for c in px.columns:\n",
    "    if str(c).strip().lower() in {\"date\", \"timestamp\", \"time\", \"pricedate\", \"trade_date\"}:\n",
    "        date_col = c\n",
    "        break\n",
    "if date_col is None:\n",
    "    for c in px.columns:\n",
    "        if pd.api.types.is_datetime64_any_dtype(px[c]):\n",
    "            date_col = c\n",
    "            break\n",
    "if date_col is None:\n",
    "    date_col = px.columns[0]\n",
    "\n",
    "px[date_col] = pd.to_datetime(px[date_col], errors=\"coerce\")\n",
    "px = px.dropna(subset=[date_col]).set_index(date_col).sort_index()\n",
    "px = px.select_dtypes(include=[np.number])  # numeric columns = assets/indices\n",
    "if px.shape[1] < 3:\n",
    "    raise ValueError(\"Need at least 3 numeric columns (assets).\")"
   ]
  },
  {
   "cell_type": "code",
   "execution_count": 8,
   "id": "2fa0b83a-5658-4726-a0f8-d3e71e6ae9b8",
   "metadata": {
    "include-cell-in-app": true
   },
   "outputs": [
    {
     "name": "stderr",
     "output_type": "stream",
     "text": [
      "C:\\Users\\Mphep\\AppData\\Local\\Temp\\ipykernel_26860\\3450108467.py:5: FutureWarning: 'M' is deprecated and will be removed in a future version, please use 'ME' instead.\n",
      "  pm = px.resample(\"M\").last()\n"
     ]
    }
   ],
   "source": [
    "# -------------------------------\n",
    "# 2) Monthly returns from 1998-01-01\n",
    "# -------------------------------\n",
    "px = px.loc[px.index >= \"2000-01-04\"]\n",
    "pm = px.resample(\"M\").last()\n",
    "retn = pm.pct_change().dropna(how=\"all\")\n",
    "retn = retn.dropna(axis=1, how=\"any\")"
   ]
  },
  {
   "cell_type": "code",
   "execution_count": 10,
   "id": "a35ccad4-5a9f-4f60-86bc-8af3c2b406ee",
   "metadata": {
    "include-cell-in-app": true
   },
   "outputs": [],
   "source": [
    "# -------------------------------\n",
    "# 3) Market proxy & betas\n",
    "# -------------------------------\n",
    "def pick_market_column(columns):\n",
    "    candidates = {\n",
    "        \"j203\",\"j200\",\"top40\",\"jse top40\",\"jse_top40\",\"ftse/jse top 40\",\n",
    "        \"alsi\",\"jse alsi\",\"jse_all_share\",\"jse all share\",\n",
    "        \"market\",\"index\",\"benchmark\"\n",
    "    }\n",
    "    low = {c: str(c).lower() for c in columns}\n",
    "    for c in columns:\n",
    "        if low[c] in candidates:\n",
    "            return c\n",
    "    return None\n",
    "\n",
    "mkt_col = pick_market_column(retn.columns)\n",
    "if mkt_col is None:\n",
    "    mkt = retn.mean(axis=1)         # equal-weighted market proxy\n",
    "    assets = list(retn.columns)\n",
    "else:\n",
    "    mkt = retn[mkt_col]\n",
    "    assets = [c for c in retn.columns if c != mkt_col]\n",
    "\n",
    "R = retn[assets].copy()\n",
    "M = mkt.reindex(R.index).fillna(0.0)\n",
    "\n",
    "# CAPM betas: beta_i = Cov(r_i, r_m)/Var(r_m)\n",
    "var_m = float(np.var(M.values, ddof=1))\n",
    "betas = {}\n",
    "for a in assets:\n",
    "    cov_im = np.cov(R[a].values, M.values, ddof=1)[0, 1]\n",
    "    betas[a] = (cov_im / var_m) if var_m > 0 else 0.0\n",
    "betas = pd.Series(betas, index=assets)"
   ]
  },
  {
   "cell_type": "code",
   "execution_count": null,
   "id": "ceaf7046-0888-457c-84a0-7f6d4481fc45",
   "metadata": {
    "include-cell-in-app": true
   },
   "outputs": [],
   "source": []
  },
  {
   "cell_type": "code",
   "execution_count": 30,
   "id": "4c391450-21ee-4e3c-8928-5dccb77688ff",
   "metadata": {
    "include-cell-in-app": true
   },
   "outputs": [
    {
     "data": {
      "text/plain": [
       "array([1.58217521, 0.98878675, 1.02189394, 0.81923558, 1.13059256,\n",
       "       0.58486578, 0.87745891, 1.47774185, 0.93205254, 0.9595853 ,\n",
       "       1.3950455 , 0.55411063, 0.95885176, 0.95367711, 0.76392658])"
      ]
     },
     "execution_count": 30,
     "metadata": {},
     "output_type": "execute_result"
    }
   ],
   "source": [
    "betas.values"
   ]
  },
  {
   "cell_type": "code",
   "execution_count": 12,
   "id": "9690087f-4a33-4678-b4b1-9d8ed3dc53f9",
   "metadata": {
    "include-cell-in-app": true
   },
   "outputs": [],
   "source": [
    "# -------------------------------\n",
    "# 4) Mean vector and covariance\n",
    "# -------------------------------\n",
    "mu = R.mean()     # mean monthly returns\n",
    "Sigma = R.cov()\n",
    "R_target = float(np.median(mu.values))  # Exercise 8.7 target"
   ]
  },
  {
   "cell_type": "code",
   "execution_count": null,
   "id": "c5a98dec-9ea0-4b6c-95a3-9b3032e3e120",
   "metadata": {
    "include-cell-in-app": true
   },
   "outputs": [],
   "source": []
  },
  {
   "cell_type": "code",
   "execution_count": null,
   "id": "7553a2b3-6e56-4da1-950e-aa4309257ebd",
   "metadata": {
    "include-cell-in-app": true
   },
   "outputs": [],
   "source": []
  },
  {
   "cell_type": "code",
   "execution_count": 26,
   "id": "fb4b05b3-d0ed-4e33-a35e-6bcc8203aeda",
   "metadata": {
    "include-cell-in-app": true
   },
   "outputs": [
    {
     "data": {
      "text/plain": [
       "0.013414467121277234"
      ]
     },
     "execution_count": 26,
     "metadata": {},
     "output_type": "execute_result"
    }
   ],
   "source": [
    "R_target"
   ]
  },
  {
   "cell_type": "code",
   "execution_count": 14,
   "id": "6404470b-1a43-452f-82c4-91c6100ed214",
   "metadata": {
    "include-cell-in-app": true
   },
   "outputs": [
    {
     "data": {
      "text/plain": [
       "'\\ncap_groups_path = Path(\"/mnt/data/cap_groups.csv\")\\ncap_groups = None\\nif cap_groups_path.exists():\\n    cg = pd.read_csv(cap_groups_path)\\n    cg[\"name\"] = cg[\"name\"].astype(str)\\n    cg[\"group\"] = cg[\"group\"].astype(str).str.upper().str[0]\\n    cg = cg[cg[\"name\"].isin(assets)]\\n    cap_groups = {\\n        \"L\": [a for a in assets if a in set(cg.loc[cg.group==\"L\", \"name\"])],\\n        \"M\": [a for a in assets if a in set(cg.loc[cg.group==\"M\", \"name\"])],\\n        \"S\": [a for a in assets if a in set(cg.loc[cg.group==\"S\", \"name\"])],\\n    }\\n    cap_groups = {k: v for k, v in cap_groups.items() if len(v) > 0}\\n'"
      ]
     },
     "execution_count": 14,
     "metadata": {},
     "output_type": "execute_result"
    }
   ],
   "source": [
    "# -------------------------------\n",
    "# 5) Optional cap-group constraints\n",
    "# -------------------------------\n",
    "'''\n",
    "cap_groups_path = Path(\"/mnt/data/cap_groups.csv\")\n",
    "cap_groups = None\n",
    "if cap_groups_path.exists():\n",
    "    cg = pd.read_csv(cap_groups_path)\n",
    "    cg[\"name\"] = cg[\"name\"].astype(str)\n",
    "    cg[\"group\"] = cg[\"group\"].astype(str).str.upper().str[0]\n",
    "    cg = cg[cg[\"name\"].isin(assets)]\n",
    "    cap_groups = {\n",
    "        \"L\": [a for a in assets if a in set(cg.loc[cg.group==\"L\", \"name\"])],\n",
    "        \"M\": [a for a in assets if a in set(cg.loc[cg.group==\"M\", \"name\"])],\n",
    "        \"S\": [a for a in assets if a in set(cg.loc[cg.group==\"S\", \"name\"])],\n",
    "    }\n",
    "    cap_groups = {k: v for k, v in cap_groups.items() if len(v) > 0}\n",
    "'''"
   ]
  },
  {
   "cell_type": "code",
   "execution_count": 16,
   "id": "a66f868f-c32c-4f22-8d8a-b8b9dd0b637b",
   "metadata": {
    "include-cell-in-app": true
   },
   "outputs": [],
   "source": [
    "# -------------------------------\n",
    "# 6) Optimizer (SLSQP)\n",
    "# -------------------------------\n",
    "BETA_BAND = (0.9, 1.1)\n",
    "\n",
    "def solve_portfolio(mu_vec, Sigma_mat, Rmin, betas_vec, beta_band=BETA_BAND, cap_groups=None):\n",
    "    names = list(mu_vec.index)\n",
    "    n = len(names)\n",
    "    mu_np = mu_vec.values\n",
    "    Sigma_np = Sigma_mat.loc[names, names].values\n",
    "    beta_np = betas_vec.loc[names].values\n",
    "\n",
    "    def obj(x):\n",
    "        return 0.5 * float(x @ Sigma_np @ x)\n",
    "\n",
    "    cons = []\n",
    "    # Budget\n",
    "    cons.append({\"type\": \"eq\", \"fun\": lambda x: np.sum(x) - 1.0})\n",
    "    # Return floor\n",
    "    cons.append({\"type\": \"ineq\", \"fun\": lambda x, mu_np=mu_np, Rmin=Rmin: float(mu_np @ x) - Rmin})\n",
    "    # Beta band\n",
    "    cons.append({\"type\": \"ineq\", \"fun\": lambda x, b=beta_np: float(b @ x) - beta_band[0]})\n",
    "    cons.append({\"type\": \"ineq\", \"fun\": lambda x, b=beta_np: beta_band[1] - float(b @ x)})\n",
    "    # Cap constraints (Exercise 8.6)\n",
    "    if cap_groups and \"L\" in cap_groups and \"M\" in cap_groups and cap_groups[\"L\"] and cap_groups[\"M\"]:\n",
    "        L_idx = [names.index(a) for a in cap_groups[\"L\"] if a in names]\n",
    "        M_idx = [names.index(a) for a in cap_groups[\"M\"] if a in names]\n",
    "        cons.append({\"type\": \"eq\", \"fun\": lambda x, L=L_idx, M=M_idx: np.sum(x[L]) - np.sum(x[M])})\n",
    "    if cap_groups and \"S\" in cap_groups and \"L\" in cap_groups and cap_groups[\"S\"] and cap_groups[\"L\"]:\n",
    "        L_idx = [names.index(a) for a in cap_groups[\"L\"] if a in names]\n",
    "        S_idx = [names.index(a) for a in cap_groups[\"S\"] if a in names]\n",
    "        cons.append({\"type\": \"ineq\", \"fun\": lambda x, L=L_idx, S=S_idx: np.sum(x[S]) - 2.0*np.sum(x[L])})\n",
    "        cons.append({\"type\": \"ineq\", \"fun\": lambda x, L=L_idx, S=S_idx: 3.0*np.sum(x[L]) - np.sum(x[S])})\n",
    "\n",
    "    # Long-only bounds\n",
    "    bnds = [(0.0, 1.0)] * n\n",
    "    x0 = np.full(n, 1.0 / n)\n",
    "\n",
    "    res = minimize(obj, x0, method=\"SLSQP\", bounds=bnds, constraints=cons,\n",
    "                   options={\"maxiter\": 1000, \"ftol\": 1e-12})\n",
    "    if not res.success:\n",
    "        raise RuntimeError(f\"Optimization failed: {res.message}\")\n",
    "\n",
    "    x = pd.Series(res.x, index=names)\n",
    "    port = {\n",
    "        \"ExpRet\": float(mu_np @ res.x),\n",
    "        \"Stdev\": float(np.sqrt(res.x @ Sigma_np @ res.x)),\n",
    "        \"Beta\": float(beta_np @ res.x),\n",
    "    }\n",
    "    return x, port"
   ]
  },
  {
   "cell_type": "code",
   "execution_count": null,
   "id": "a0eb2197-a343-44b9-bb4a-6da4002bff55",
   "metadata": {
    "include-cell-in-app": true
   },
   "outputs": [],
   "source": []
  },
  {
   "cell_type": "code",
   "execution_count": 20,
   "id": "404b24b8-03d6-44d6-a527-ce30ae6aacef",
   "metadata": {
    "include-cell-in-app": true
   },
   "outputs": [],
   "source": [
    "# -------------------------------\n",
    "# 7) Exercise 8.7 — baseline + 4 perturbations + average\n",
    "# -------------------------------\n",
    "x0, p0 = solve_portfolio(mu, Sigma, R_target, betas, beta_band=BETA_BAND, cap_groups=None)\n",
    "\n",
    "rng = np.random.default_rng(42)\n",
    "x_list = [x0]\n",
    "p_list = [p0]\n",
    "for _ in range(4):\n",
    "    lo, hi = 0.95 * mu.values, 1.05 * mu.values\n",
    "    mu_tilde = pd.Series(rng.uniform(lo, hi), index=mu.index)\n",
    "    xk, pk = solve_portfolio(mu_tilde, Sigma, R_target, betas, beta_band=BETA_BAND, cap_groups=None)\n",
    "    x_list.append(xk); p_list.append(pk)\n",
    "\n",
    "x_avg = pd.concat(x_list, axis=1).mean(axis=1).rename(\"Average\")\n",
    "\n",
    "# Metrics for the averaged portfolio\n",
    "Sigma_np = Sigma.loc[x_avg.index, x_avg.index].values\n",
    "mu_np = mu.loc[x_avg.index].values\n",
    "beta_np = betas.loc[x_avg.index].values\n",
    "x_avg_np = x_avg.values\n",
    "p_avg = {\n",
    "    \"ExpRet\": float(mu_np @ x_avg_np),\n",
    "    \"Stdev\": float(np.sqrt(x_avg_np @ Sigma_np @ x_avg_np)),\n",
    "    \"Beta\": float(beta_np @ x_avg_np),\n",
    "}\n"
   ]
  },
  {
   "cell_type": "code",
   "execution_count": 38,
   "id": "e632347d-b7ca-4ee8-89f4-4c17d93f4d3c",
   "metadata": {
    "include-cell-in-app": true
   },
   "outputs": [
    {
     "data": {
      "text/plain": [
       "array([0.03040821, 0.03978716, 0.00732206, 0.078593  , 0.09315509,\n",
       "       0.12113741, 0.09855994, 0.04123555, 0.01659101, 0.06985211,\n",
       "       0.05727802, 0.14825659, 0.04761264, 0.06397557, 0.08623564])"
      ]
     },
     "execution_count": 38,
     "metadata": {},
     "output_type": "execute_result"
    }
   ],
   "source": [
    "x0.values"
   ]
  },
  {
   "cell_type": "code",
   "execution_count": 36,
   "id": "8025e707-bdb4-47e8-929b-b7de7351e14a",
   "metadata": {
    "include-cell-in-app": true
   },
   "outputs": [
    {
     "data": {
      "text/plain": [
       "{'ExpRet': 0.013414467121276887,\n",
       " 'Stdev': 0.04812391975005027,\n",
       " 'Beta': 0.8999999999999577}"
      ]
     },
     "execution_count": 36,
     "metadata": {},
     "output_type": "execute_result"
    }
   ],
   "source": [
    "p0"
   ]
  },
  {
   "cell_type": "code",
   "execution_count": 24,
   "id": "0bd7068c-87c6-472d-b44f-4408d379e5d4",
   "metadata": {
    "include-cell-in-app": true
   },
   "outputs": [
    {
     "data": {
      "text/plain": [
       "{'ExpRet': 0.013382185206111855,\n",
       " 'Stdev': 0.048119910809988675,\n",
       " 'Beta': 0.9000000000000274}"
      ]
     },
     "execution_count": 24,
     "metadata": {},
     "output_type": "execute_result"
    }
   ],
   "source": [
    "p_avg"
   ]
  },
  {
   "cell_type": "code",
   "execution_count": 22,
   "id": "1be72fdd-b9e2-44bc-b88d-2ef639e620dc",
   "metadata": {
    "include-cell-in-app": true
   },
   "outputs": [
    {
     "name": "stdout",
     "output_type": "stream",
     "text": [
      "Saved to: part2_outputs_new\n"
     ]
    }
   ],
   "source": [
    "# -------------------------------\n",
    "# 8) Save outputs\n",
    "# -------------------------------\n",
    "out_dir = Path(\"part2_outputs_new\")\n",
    "out_dir.mkdir(parents=True, exist_ok=True)\n",
    "\n",
    "weights_df = pd.concat(\n",
    "    [\n",
    "        x_list[0].rename(\"Baseline\"),\n",
    "        x_list[1].rename(\"Perturb_1\"),\n",
    "        x_list[2].rename(\"Perturb_2\"),\n",
    "        x_list[3].rename(\"Perturb_3\"),\n",
    "        x_list[4].rename(\"Perturb_4\"),\n",
    "        x_avg\n",
    "    ],\n",
    "    axis=1\n",
    ")\n",
    "summary_rows = []\n",
    "for name, p in zip([\"Baseline\",\"Perturb_1\",\"Perturb_2\",\"Perturb_3\",\"Perturb_4\"], p_list):\n",
    "    summary_rows.append({\"Portfolio\": name, **p})\n",
    "summary_rows.append({\"Portfolio\": \"Average\", **p_avg})\n",
    "summary_df = pd.DataFrame(summary_rows).set_index(\"Portfolio\")\n",
    "\n",
    "weights_df.to_csv(out_dir / \"exercise_8_7_weights.csv\")\n",
    "summary_df.to_csv(out_dir / \"exercise_8_7_summary.csv\")\n",
    "betas.sort_index().to_csv(out_dir / \"asset_betas.csv\", header=[\"beta\"])\n",
    "\n",
    "print(\"Saved to:\", out_dir)"
   ]
  },
  {
   "cell_type": "code",
   "execution_count": 52,
   "id": "f0468583-f6ca-4187-9c4c-4408d2d5a7dc",
   "metadata": {
    "include-cell-in-app": true
   },
   "outputs": [
    {
     "data": {
      "text/html": [
       "<div>\n",
       "<style scoped>\n",
       "    .dataframe tbody tr th:only-of-type {\n",
       "        vertical-align: middle;\n",
       "    }\n",
       "\n",
       "    .dataframe tbody tr th {\n",
       "        vertical-align: top;\n",
       "    }\n",
       "\n",
       "    .dataframe thead th {\n",
       "        text-align: right;\n",
       "    }\n",
       "</style>\n",
       "<table border=\"1\" class=\"dataframe\">\n",
       "  <thead>\n",
       "    <tr style=\"text-align: right;\">\n",
       "      <th></th>\n",
       "      <th>ExpRet</th>\n",
       "      <th>Stdev</th>\n",
       "      <th>Beta</th>\n",
       "    </tr>\n",
       "    <tr>\n",
       "      <th>Portfolio</th>\n",
       "      <th></th>\n",
       "      <th></th>\n",
       "      <th></th>\n",
       "    </tr>\n",
       "  </thead>\n",
       "  <tbody>\n",
       "    <tr>\n",
       "      <th>Baseline</th>\n",
       "      <td>0.013414</td>\n",
       "      <td>0.048124</td>\n",
       "      <td>0.9</td>\n",
       "    </tr>\n",
       "    <tr>\n",
       "      <th>Perturb_1</th>\n",
       "      <td>0.013414</td>\n",
       "      <td>0.048109</td>\n",
       "      <td>0.9</td>\n",
       "    </tr>\n",
       "    <tr>\n",
       "      <th>Perturb_2</th>\n",
       "      <td>0.013414</td>\n",
       "      <td>0.048113</td>\n",
       "      <td>0.9</td>\n",
       "    </tr>\n",
       "    <tr>\n",
       "      <th>Perturb_3</th>\n",
       "      <td>0.013414</td>\n",
       "      <td>0.048118</td>\n",
       "      <td>0.9</td>\n",
       "    </tr>\n",
       "    <tr>\n",
       "      <th>Perturb_4</th>\n",
       "      <td>0.013414</td>\n",
       "      <td>0.048154</td>\n",
       "      <td>0.9</td>\n",
       "    </tr>\n",
       "    <tr>\n",
       "      <th>Average</th>\n",
       "      <td>0.013382</td>\n",
       "      <td>0.048120</td>\n",
       "      <td>0.9</td>\n",
       "    </tr>\n",
       "  </tbody>\n",
       "</table>\n",
       "</div>"
      ],
      "text/plain": [
       "             ExpRet     Stdev  Beta\n",
       "Portfolio                          \n",
       "Baseline   0.013414  0.048124   0.9\n",
       "Perturb_1  0.013414  0.048109   0.9\n",
       "Perturb_2  0.013414  0.048113   0.9\n",
       "Perturb_3  0.013414  0.048118   0.9\n",
       "Perturb_4  0.013414  0.048154   0.9\n",
       "Average    0.013382  0.048120   0.9"
      ]
     },
     "execution_count": 52,
     "metadata": {},
     "output_type": "execute_result"
    }
   ],
   "source": [
    "summary_df"
   ]
  },
  {
   "cell_type": "code",
   "execution_count": 50,
   "id": "4ad950fe-00ab-40f0-9858-811f08cc7ffe",
   "metadata": {
    "include-cell-in-app": true
   },
   "outputs": [
    {
     "data": {
      "text/html": [
       "<div>\n",
       "<style scoped>\n",
       "    .dataframe tbody tr th:only-of-type {\n",
       "        vertical-align: middle;\n",
       "    }\n",
       "\n",
       "    .dataframe tbody tr th {\n",
       "        vertical-align: top;\n",
       "    }\n",
       "\n",
       "    .dataframe thead th {\n",
       "        text-align: right;\n",
       "    }\n",
       "</style>\n",
       "<table border=\"1\" class=\"dataframe\">\n",
       "  <thead>\n",
       "    <tr style=\"text-align: right;\">\n",
       "      <th></th>\n",
       "      <th>Baseline</th>\n",
       "      <th>Perturb_1</th>\n",
       "      <th>Perturb_2</th>\n",
       "      <th>Perturb_3</th>\n",
       "      <th>Perturb_4</th>\n",
       "      <th>Average</th>\n",
       "    </tr>\n",
       "  </thead>\n",
       "  <tbody>\n",
       "    <tr>\n",
       "      <th>Harmony Gold Mining Company Ltd</th>\n",
       "      <td>0.030408</td>\n",
       "      <td>0.029967</td>\n",
       "      <td>0.029840</td>\n",
       "      <td>0.030483</td>\n",
       "      <td>0.031607</td>\n",
       "      <td>0.030461</td>\n",
       "    </tr>\n",
       "    <tr>\n",
       "      <th>MTN Group Ltd</th>\n",
       "      <td>0.039787</td>\n",
       "      <td>0.041909</td>\n",
       "      <td>0.041147</td>\n",
       "      <td>0.040912</td>\n",
       "      <td>0.037693</td>\n",
       "      <td>0.040290</td>\n",
       "    </tr>\n",
       "    <tr>\n",
       "      <th>Mr Price Group Ltd</th>\n",
       "      <td>0.007322</td>\n",
       "      <td>0.004208</td>\n",
       "      <td>0.004753</td>\n",
       "      <td>0.005832</td>\n",
       "      <td>0.009473</td>\n",
       "      <td>0.006318</td>\n",
       "    </tr>\n",
       "    <tr>\n",
       "      <th>Aspen Pharmacare Holdings Ltd</th>\n",
       "      <td>0.078593</td>\n",
       "      <td>0.078558</td>\n",
       "      <td>0.078735</td>\n",
       "      <td>0.078511</td>\n",
       "      <td>0.079528</td>\n",
       "      <td>0.078785</td>\n",
       "    </tr>\n",
       "    <tr>\n",
       "      <th>Gold Fields Ltd</th>\n",
       "      <td>0.093155</td>\n",
       "      <td>0.092478</td>\n",
       "      <td>0.093050</td>\n",
       "      <td>0.092777</td>\n",
       "      <td>0.092288</td>\n",
       "      <td>0.092749</td>\n",
       "    </tr>\n",
       "    <tr>\n",
       "      <th>Shoprite Holdings Ltd</th>\n",
       "      <td>0.121137</td>\n",
       "      <td>0.118492</td>\n",
       "      <td>0.119498</td>\n",
       "      <td>0.119536</td>\n",
       "      <td>0.123574</td>\n",
       "      <td>0.120447</td>\n",
       "    </tr>\n",
       "    <tr>\n",
       "      <th>Standard Bank Group Ltd</th>\n",
       "      <td>0.098560</td>\n",
       "      <td>0.099418</td>\n",
       "      <td>0.097702</td>\n",
       "      <td>0.097471</td>\n",
       "      <td>0.093904</td>\n",
       "      <td>0.097411</td>\n",
       "    </tr>\n",
       "    <tr>\n",
       "      <th>Impala Platinum Holdings Ltd</th>\n",
       "      <td>0.041236</td>\n",
       "      <td>0.040482</td>\n",
       "      <td>0.040967</td>\n",
       "      <td>0.040976</td>\n",
       "      <td>0.042454</td>\n",
       "      <td>0.041223</td>\n",
       "    </tr>\n",
       "    <tr>\n",
       "      <th>FirstRand Ltd</th>\n",
       "      <td>0.016591</td>\n",
       "      <td>0.010355</td>\n",
       "      <td>0.014078</td>\n",
       "      <td>0.014372</td>\n",
       "      <td>0.024203</td>\n",
       "      <td>0.015920</td>\n",
       "    </tr>\n",
       "    <tr>\n",
       "      <th>Absa Group Ltd</th>\n",
       "      <td>0.069852</td>\n",
       "      <td>0.071562</td>\n",
       "      <td>0.071668</td>\n",
       "      <td>0.071588</td>\n",
       "      <td>0.070430</td>\n",
       "      <td>0.071020</td>\n",
       "    </tr>\n",
       "    <tr>\n",
       "      <th>Sasol Ltd</th>\n",
       "      <td>0.057278</td>\n",
       "      <td>0.056004</td>\n",
       "      <td>0.056386</td>\n",
       "      <td>0.056797</td>\n",
       "      <td>0.058551</td>\n",
       "      <td>0.057003</td>\n",
       "    </tr>\n",
       "    <tr>\n",
       "      <th>Clicks Group Ltd</th>\n",
       "      <td>0.148257</td>\n",
       "      <td>0.149240</td>\n",
       "      <td>0.148650</td>\n",
       "      <td>0.149498</td>\n",
       "      <td>0.149237</td>\n",
       "      <td>0.148976</td>\n",
       "    </tr>\n",
       "    <tr>\n",
       "      <th>Investec Ltd</th>\n",
       "      <td>0.047613</td>\n",
       "      <td>0.049842</td>\n",
       "      <td>0.048654</td>\n",
       "      <td>0.048261</td>\n",
       "      <td>0.045730</td>\n",
       "      <td>0.048020</td>\n",
       "    </tr>\n",
       "    <tr>\n",
       "      <th>Nedbank Group Ltd</th>\n",
       "      <td>0.063976</td>\n",
       "      <td>0.075537</td>\n",
       "      <td>0.071134</td>\n",
       "      <td>0.067698</td>\n",
       "      <td>0.051711</td>\n",
       "      <td>0.066011</td>\n",
       "    </tr>\n",
       "    <tr>\n",
       "      <th>Naspers Ltd</th>\n",
       "      <td>0.086236</td>\n",
       "      <td>0.081948</td>\n",
       "      <td>0.083740</td>\n",
       "      <td>0.085288</td>\n",
       "      <td>0.089617</td>\n",
       "      <td>0.085366</td>\n",
       "    </tr>\n",
       "  </tbody>\n",
       "</table>\n",
       "</div>"
      ],
      "text/plain": [
       "                                 Baseline  Perturb_1  Perturb_2  Perturb_3  \\\n",
       "Harmony Gold Mining Company Ltd  0.030408   0.029967   0.029840   0.030483   \n",
       "MTN Group Ltd                    0.039787   0.041909   0.041147   0.040912   \n",
       "Mr Price Group Ltd               0.007322   0.004208   0.004753   0.005832   \n",
       "Aspen Pharmacare Holdings Ltd    0.078593   0.078558   0.078735   0.078511   \n",
       "Gold Fields Ltd                  0.093155   0.092478   0.093050   0.092777   \n",
       "Shoprite Holdings Ltd            0.121137   0.118492   0.119498   0.119536   \n",
       "Standard Bank Group Ltd          0.098560   0.099418   0.097702   0.097471   \n",
       "Impala Platinum Holdings Ltd     0.041236   0.040482   0.040967   0.040976   \n",
       "FirstRand Ltd                    0.016591   0.010355   0.014078   0.014372   \n",
       "Absa Group Ltd                   0.069852   0.071562   0.071668   0.071588   \n",
       "Sasol Ltd                        0.057278   0.056004   0.056386   0.056797   \n",
       "Clicks Group Ltd                 0.148257   0.149240   0.148650   0.149498   \n",
       "Investec Ltd                     0.047613   0.049842   0.048654   0.048261   \n",
       "Nedbank Group Ltd                0.063976   0.075537   0.071134   0.067698   \n",
       "Naspers Ltd                      0.086236   0.081948   0.083740   0.085288   \n",
       "\n",
       "                                 Perturb_4   Average  \n",
       "Harmony Gold Mining Company Ltd   0.031607  0.030461  \n",
       "MTN Group Ltd                     0.037693  0.040290  \n",
       "Mr Price Group Ltd                0.009473  0.006318  \n",
       "Aspen Pharmacare Holdings Ltd     0.079528  0.078785  \n",
       "Gold Fields Ltd                   0.092288  0.092749  \n",
       "Shoprite Holdings Ltd             0.123574  0.120447  \n",
       "Standard Bank Group Ltd           0.093904  0.097411  \n",
       "Impala Platinum Holdings Ltd      0.042454  0.041223  \n",
       "FirstRand Ltd                     0.024203  0.015920  \n",
       "Absa Group Ltd                    0.070430  0.071020  \n",
       "Sasol Ltd                         0.058551  0.057003  \n",
       "Clicks Group Ltd                  0.149237  0.148976  \n",
       "Investec Ltd                      0.045730  0.048020  \n",
       "Nedbank Group Ltd                 0.051711  0.066011  \n",
       "Naspers Ltd                       0.089617  0.085366  "
      ]
     },
     "execution_count": 50,
     "metadata": {},
     "output_type": "execute_result"
    }
   ],
   "source": [
    "weights_df"
   ]
  },
  {
   "cell_type": "code",
   "execution_count": null,
   "id": "fcab13d3-025f-4d53-8492-0c1cd365636a",
   "metadata": {
    "include-cell-in-app": true
   },
   "outputs": [],
   "source": []
  }
 ],
 "metadata": {
  "kernelspec": {
   "display_name": "Python [conda env:base] *",
   "language": "python",
   "name": "conda-base-py"
  },
  "language_info": {
   "codemirror_mode": {
    "name": "ipython",
    "version": 3
   },
   "file_extension": ".py",
   "mimetype": "text/x-python",
   "name": "python",
   "nbconvert_exporter": "python",
   "pygments_lexer": "ipython3",
   "version": "3.12.7"
  }
 },
 "nbformat": 4,
 "nbformat_minor": 5
}
